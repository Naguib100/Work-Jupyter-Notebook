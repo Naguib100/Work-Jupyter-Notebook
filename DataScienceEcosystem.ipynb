{
 "cells": [
  {
   "cell_type": "markdown",
   "id": "7ddd3c73",
   "metadata": {},
   "source": [
    "# Data Science Tools and Ecosystem"
   ]
  },
  {
   "cell_type": "markdown",
   "id": "3f743ce7",
   "metadata": {},
   "source": [
    "### In this notebook, Data Science Tools and Ecosystem are summarized."
   ]
  },
  {
   "cell_type": "markdown",
   "id": "6cb02171",
   "metadata": {},
   "source": [
    "**Objectives:**\n",
    "- Create a Jupyter Notebook\n",
    "- Insert code and markdown cells\n",
    "- Share your notebook through GitHub\n",
    "- Remember the first subject: \"Tools for Data Science\""
   ]
  },
  {
   "cell_type": "markdown",
   "id": "7fc8cb6b",
   "metadata": {},
   "source": [
    "##### Some of the popular languages that Data Scientist use are:"
   ]
  },
  {
   "cell_type": "markdown",
   "id": "2da62899",
   "metadata": {},
   "source": [
    "1. Python\n",
    "2. R\n",
    "3. SQL\n",
    "4. Scala\n",
    "5. Java"
   ]
  },
  {
   "cell_type": "markdown",
   "id": "eaeca103",
   "metadata": {},
   "source": [
    "##### Some of the commonly used libraries used by Data Scientist include:"
   ]
  },
  {
   "cell_type": "markdown",
   "id": "b4b35061",
   "metadata": {},
   "source": [
    "1. Pandas\n",
    "2. Numpy\n",
    "3. SciPy\n",
    "4. Matplotlib"
   ]
  },
  {
   "cell_type": "markdown",
   "id": "30a032b6",
   "metadata": {},
   "source": [
    "| Data Science Tools |\n",
    "| ------ |\n",
    "| Jupyter Notebooks |\n",
    "| Anaconda |\n",
    "| RStudio |\n"
   ]
  },
  {
   "cell_type": "markdown",
   "id": "52e61682",
   "metadata": {},
   "source": [
    "### Below are a few examples of evaluating arithmetic expressions in Python:"
   ]
  },
  {
   "cell_type": "markdown",
   "id": "f2698880",
   "metadata": {},
   "source": [
    "- Addition: print(2+3) = 5\n",
    "- Subtraction: print(4-2) = 2\n",
    "- Multiplication: print (5*2) = 10"
   ]
  },
  {
   "cell_type": "code",
   "execution_count": 27,
   "id": "7fa49e2a",
   "metadata": {},
   "outputs": [
    {
     "name": "stdout",
     "output_type": "stream",
     "text": [
      "17\n"
     ]
    }
   ],
   "source": [
    "# This a simple arithmetic expression to mutiply then add integers\n",
    "print ((3*4)+5)"
   ]
  },
  {
   "cell_type": "code",
   "execution_count": 28,
   "id": "27b7b296",
   "metadata": {},
   "outputs": [
    {
     "name": "stdout",
     "output_type": "stream",
     "text": [
      "200 minutes equals 3.3333333333333335  hours\n"
     ]
    }
   ],
   "source": [
    "# This will convert 200 minutes to hours by diving by 60\n",
    "X = 200\n",
    "Y = 60\n",
    "Z = 200 / 60\n",
    "print(\"200 minutes equals\", Z, \" hours\")"
   ]
  },
  {
   "cell_type": "markdown",
   "id": "41361735",
   "metadata": {},
   "source": [
    "## Author\n",
    "Naguib Abdón Yaser Petit"
   ]
  },
  {
   "cell_type": "code",
   "execution_count": null,
   "id": "6a64b420",
   "metadata": {},
   "outputs": [],
   "source": []
  }
 ],
 "metadata": {
  "kernelspec": {
   "display_name": "Python 3 (ipykernel)",
   "language": "python",
   "name": "python3"
  },
  "language_info": {
   "codemirror_mode": {
    "name": "ipython",
    "version": 3
   },
   "file_extension": ".py",
   "mimetype": "text/x-python",
   "name": "python",
   "nbconvert_exporter": "python",
   "pygments_lexer": "ipython3",
   "version": "3.11.5"
  }
 },
 "nbformat": 4,
 "nbformat_minor": 5
}
